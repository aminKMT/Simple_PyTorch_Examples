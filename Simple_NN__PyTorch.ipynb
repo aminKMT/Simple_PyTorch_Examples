{
  "nbformat": 4,
  "nbformat_minor": 0,
  "metadata": {
    "colab": {
      "provenance": [],
      "authorship_tag": "ABX9TyN94YLtL7rNJ03Y5s3BRxDJ",
      "include_colab_link": true
    },
    "kernelspec": {
      "name": "python3",
      "display_name": "Python 3"
    },
    "language_info": {
      "name": "python"
    }
  },
  "cells": [
    {
      "cell_type": "markdown",
      "metadata": {
        "id": "view-in-github",
        "colab_type": "text"
      },
      "source": [
        "<a href=\"https://colab.research.google.com/github/aminKMT/Simple_PyTorch_Examples/blob/main/Simple_NN__PyTorch.ipynb\" target=\"_parent\"><img src=\"https://colab.research.google.com/assets/colab-badge.svg\" alt=\"Open In Colab\"/></a>"
      ]
    },
    {
      "cell_type": "code",
      "execution_count": null,
      "metadata": {
        "id": "CMFo_-2hJmfB"
      },
      "outputs": [],
      "source": [
        "!pip install torch torchvision"
      ]
    },
    {
      "cell_type": "code",
      "source": [
        "import torch\n",
        "import torch.nn as nn\n",
        "import torch.optim as optim\n",
        "import torch.nn.functional as F"
      ],
      "metadata": {
        "id": "jqf27nKQ7GLw"
      },
      "execution_count": 3,
      "outputs": []
    },
    {
      "cell_type": "code",
      "source": [
        "import numpy as np\n",
        "\n",
        "X = np.random.rand(10, 2).astype(np.float32)\n",
        "\n",
        "X"
      ],
      "metadata": {
        "colab": {
          "base_uri": "https://localhost:8080/"
        },
        "id": "g6-Nxdq19hy6",
        "outputId": "522b8074-ade5-47b7-a27a-c9de27c62fbc"
      },
      "execution_count": 8,
      "outputs": [
        {
          "output_type": "execute_result",
          "data": {
            "text/plain": [
              "array([[0.00761357, 0.23185952],\n",
              "       [0.30930668, 0.14778031],\n",
              "       [0.02988357, 0.4970279 ],\n",
              "       [0.60937065, 0.82491887],\n",
              "       [0.25695458, 0.8909883 ],\n",
              "       [0.8598573 , 0.650273  ],\n",
              "       [0.14144154, 0.95859325],\n",
              "       [0.8790285 , 0.2873197 ],\n",
              "       [0.5170696 , 0.49854833],\n",
              "       [0.87002516, 0.7442846 ]], dtype=float32)"
            ]
          },
          "metadata": {},
          "execution_count": 8
        }
      ]
    },
    {
      "cell_type": "code",
      "source": [
        "X[0]"
      ],
      "metadata": {
        "colab": {
          "base_uri": "https://localhost:8080/"
        },
        "id": "XUYU-VBq97HP",
        "outputId": "a8762f10-455a-46e8-89d4-cec57f40f9ea"
      },
      "execution_count": 9,
      "outputs": [
        {
          "output_type": "execute_result",
          "data": {
            "text/plain": [
              "array([0.00761357, 0.23185952], dtype=float32)"
            ]
          },
          "metadata": {},
          "execution_count": 9
        }
      ]
    },
    {
      "cell_type": "code",
      "source": [
        "import numpy as np\n",
        "\n",
        "X = np.random.rand(10, 2).astype(np.float32)\n",
        "Y = np.array([[1] if x[0]+x[1]> 1 else [0] for x in X ], dtype= np.float32)\n",
        "\n",
        "X_tensor = torch.tensor(X)\n",
        "Y_tensor = torch.tensor(Y)\n",
        "\n"
      ],
      "metadata": {
        "id": "UbqhV5Wn77pu"
      },
      "execution_count": 16,
      "outputs": []
    },
    {
      "cell_type": "code",
      "source": [
        "class SimpleNN(nn.Module):\n",
        "    def __init__(self):\n",
        "        super(SimpleNN,self).__init__()\n",
        "        self.hidden = nn.linear(2, 3)\n",
        "        self.outut = nn.linear(3, 1)\n",
        "\n",
        "    def forward(self, x):\n",
        "        x = F.relu(self.hidden(x))\n",
        "        x = F.sigmoid(self.output(x))\n",
        "        return x\n",
        "\n",
        "model = SimpleNN()\n"
      ],
      "metadata": {
        "id": "zwIfcdoP87iv"
      },
      "execution_count": null,
      "outputs": []
    }
  ]
}