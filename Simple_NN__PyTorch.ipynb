{
  "nbformat": 4,
  "nbformat_minor": 0,
  "metadata": {
    "colab": {
      "provenance": [],
      "authorship_tag": "ABX9TyPSrIKaq4YUXp/ZPLGliek4",
      "include_colab_link": true
    },
    "kernelspec": {
      "name": "python3",
      "display_name": "Python 3"
    },
    "language_info": {
      "name": "python"
    }
  },
  "cells": [
    {
      "cell_type": "markdown",
      "metadata": {
        "id": "view-in-github",
        "colab_type": "text"
      },
      "source": [
        "<a href=\"https://colab.research.google.com/github/aminKMT/Simple_PyTorch_Examples/blob/main/Simple_NN__PyTorch.ipynb\" target=\"_parent\"><img src=\"https://colab.research.google.com/assets/colab-badge.svg\" alt=\"Open In Colab\"/></a>"
      ]
    },
    {
      "cell_type": "code",
      "execution_count": null,
      "metadata": {
        "id": "CMFo_-2hJmfB"
      },
      "outputs": [],
      "source": [
        "!pip install torch torchvision"
      ]
    },
    {
      "cell_type": "code",
      "source": [
        "import torch\n",
        "import torch.nn as nn\n",
        "import torch.optim as optim\n",
        "import torch.nn.functional as F"
      ],
      "metadata": {
        "id": "jqf27nKQ7GLw"
      },
      "execution_count": 2,
      "outputs": []
    },
    {
      "cell_type": "code",
      "source": [
        "import numpy as np\n",
        "\n",
        "X = np.random.rand(10, 2).astype(np.float32)\n",
        "\n",
        "X"
      ],
      "metadata": {
        "id": "g6-Nxdq19hy6"
      },
      "execution_count": null,
      "outputs": []
    },
    {
      "cell_type": "code",
      "source": [
        "X[0]"
      ],
      "metadata": {
        "colab": {
          "base_uri": "https://localhost:8080/"
        },
        "id": "XUYU-VBq97HP",
        "outputId": "9fead528-99e3-4b59-f344-608484f08949"
      },
      "execution_count": 4,
      "outputs": [
        {
          "output_type": "execute_result",
          "data": {
            "text/plain": [
              "array([0.17152056, 0.89358175], dtype=float32)"
            ]
          },
          "metadata": {},
          "execution_count": 4
        }
      ]
    },
    {
      "cell_type": "code",
      "source": [
        "import numpy as np\n",
        "\n",
        "X = np.random.rand(10, 2).astype(np.float32)\n",
        "Y = np.array([[1] if x[0]+x[1]> 1 else [0] for x in X ], dtype= np.float32)\n",
        "\n",
        "X_tensor = torch.tensor(X)\n",
        "Y_tensor = torch.tensor(Y)\n",
        "\n"
      ],
      "metadata": {
        "id": "UbqhV5Wn77pu"
      },
      "execution_count": 5,
      "outputs": []
    },
    {
      "cell_type": "code",
      "source": [
        "# Model Arcitecture:\n",
        "class SimpleNN(nn.Module):\n",
        "    def __init__(self):\n",
        "        super(SimpleNN,self).__init__()\n",
        "        self.hidden = nn.Linear(2, 3)\n",
        "        self.output = nn.Linear(3, 1)\n",
        "\n",
        "    def forward(self, x):\n",
        "        x = F.relu(self.hidden(x))\n",
        "        x = F.sigmoid(self.output(x))\n",
        "        return x\n",
        "\n",
        "model = SimpleNN()\n"
      ],
      "metadata": {
        "id": "zwIfcdoP87iv"
      },
      "execution_count": 12,
      "outputs": []
    },
    {
      "cell_type": "code",
      "source": [
        "# Loss Function and Optimizer:\n",
        "critorion = nn.BCELoss()\n",
        "optimizer = optim.SGD(model.parameters(), lr=0.1)"
      ],
      "metadata": {
        "id": "rbrZGRzoCLQy"
      },
      "execution_count": 13,
      "outputs": []
    },
    {
      "cell_type": "code",
      "source": [
        "epochs = 1000\n",
        "for epoch in range(epochs):\n",
        "    optimizer.zero_grad()\n",
        "    Y_pred = model(X_tensor)\n",
        "    loss = critorion(Y_pred, Y_tensor)\n",
        "    loss.backward()\n",
        "    optimizer.step()\n",
        "\n",
        "    if (epoch + 1) % 100 == 0:  # Print loss every 100 epochs\n",
        "        print(f'Epoch [{epoch+1}/{epochs}], Loss: {loss.item():.4f}')"
      ],
      "metadata": {
        "colab": {
          "base_uri": "https://localhost:8080/"
        },
        "id": "5IthGzNHDZZm",
        "outputId": "46a7fa1d-52e9-4dc2-8d30-bcf33c7da39a"
      },
      "execution_count": 14,
      "outputs": [
        {
          "output_type": "stream",
          "name": "stdout",
          "text": [
            "Epoch [100/1000], Loss: 0.3914\n",
            "Epoch [200/1000], Loss: 0.2207\n",
            "Epoch [300/1000], Loss: 0.1352\n",
            "Epoch [400/1000], Loss: 0.0908\n",
            "Epoch [500/1000], Loss: 0.0666\n",
            "Epoch [600/1000], Loss: 0.0520\n",
            "Epoch [700/1000], Loss: 0.0424\n",
            "Epoch [800/1000], Loss: 0.0356\n",
            "Epoch [900/1000], Loss: 0.0306\n",
            "Epoch [1000/1000], Loss: 0.0267\n"
          ]
        }
      ]
    },
    {
      "cell_type": "code",
      "source": [
        "# Prediction with new data:\n",
        "test_X = torch.tensor([[0.8, 0.3], [0.2, 0.1]], dtype=torch.float32)\n",
        "pred = model(test_X)\n",
        "\n",
        "pred_labels = (pred > 0.5).float()\n",
        "\n",
        "print(torch.concatenate((test_X, pred_labels), 1))\n"
      ],
      "metadata": {
        "colab": {
          "base_uri": "https://localhost:8080/"
        },
        "id": "TG5wysHGHbe6",
        "outputId": "d05f705d-534b-4b8c-93bf-86c7a1916cd4"
      },
      "execution_count": 35,
      "outputs": [
        {
          "output_type": "stream",
          "name": "stdout",
          "text": [
            "tensor([[0.8000, 0.3000, 1.0000],\n",
            "        [0.2000, 0.1000, 0.0000]])\n"
          ]
        }
      ]
    }
  ]
}